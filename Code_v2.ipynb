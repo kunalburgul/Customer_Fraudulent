{
 "cells": [
  {
   "cell_type": "code",
   "execution_count": 1,
   "metadata": {
    "colab": {},
    "colab_type": "code",
    "id": "QdNnV_klH8lC"
   },
   "outputs": [],
   "source": [
    "import pandas as pd\n",
    "import numpy as np\n",
    "import json  \n",
    "from pandas.io.json import json_normalize  "
   ]
  },
  {
   "cell_type": "code",
   "execution_count": 2,
   "metadata": {
    "colab": {},
    "colab_type": "code",
    "id": "8KETeDboIayF"
   },
   "outputs": [],
   "source": [
    "df = pd.read_json('data/customersdata.json',\n",
    "                  lines=True ,\n",
    "                  orient='columns')\n"
   ]
  },
  {
   "cell_type": "code",
   "execution_count": 3,
   "metadata": {},
   "outputs": [
    {
     "data": {
      "text/html": [
       "<div>\n",
       "<style scoped>\n",
       "    .dataframe tbody tr th:only-of-type {\n",
       "        vertical-align: middle;\n",
       "    }\n",
       "\n",
       "    .dataframe tbody tr th {\n",
       "        vertical-align: top;\n",
       "    }\n",
       "\n",
       "    .dataframe thead th {\n",
       "        text-align: right;\n",
       "    }\n",
       "</style>\n",
       "<table border=\"1\" class=\"dataframe\">\n",
       "  <thead>\n",
       "    <tr style=\"text-align: right;\">\n",
       "      <th></th>\n",
       "      <th>fraudulent</th>\n",
       "      <th>customer</th>\n",
       "      <th>orders</th>\n",
       "      <th>paymentMethods</th>\n",
       "      <th>transactions</th>\n",
       "    </tr>\n",
       "  </thead>\n",
       "  <tbody>\n",
       "    <tr>\n",
       "      <td>0</td>\n",
       "      <td>False</td>\n",
       "      <td>{'customerEmail': 'josephhoward@yahoo.com', 'c...</td>\n",
       "      <td>[{'orderId': 'vjbdvd', 'orderAmount': 18, 'ord...</td>\n",
       "      <td>[{'paymentMethodId': 'wt07xm68b', 'paymentMeth...</td>\n",
       "      <td>[{'transactionId': 'a9lcj51r', 'orderId': 'vjb...</td>\n",
       "    </tr>\n",
       "    <tr>\n",
       "      <td>1</td>\n",
       "      <td>True</td>\n",
       "      <td>{'customerEmail': 'evansjeffery@yahoo.com', 'c...</td>\n",
       "      <td>[{'orderId': 'nlghpa', 'orderAmount': 45, 'ord...</td>\n",
       "      <td>[{'paymentMethodId': 'y3xp697jx', 'paymentMeth...</td>\n",
       "      <td>[{'transactionId': '5mi94sfw', 'orderId': 'nlg...</td>\n",
       "    </tr>\n",
       "    <tr>\n",
       "      <td>2</td>\n",
       "      <td>False</td>\n",
       "      <td>{'customerEmail': 'andersonwilliam@yahoo.com',...</td>\n",
       "      <td>[{'orderId': 'yk34y2', 'orderAmount': 33, 'ord...</td>\n",
       "      <td>[{'paymentMethodId': '8pneoi03z', 'paymentMeth...</td>\n",
       "      <td>[{'transactionId': 'q3lyvbza', 'orderId': 'yk3...</td>\n",
       "    </tr>\n",
       "    <tr>\n",
       "      <td>3</td>\n",
       "      <td>False</td>\n",
       "      <td>{'customerEmail': 'rubenjuarez@yahoo.com', 'cu...</td>\n",
       "      <td>[{'orderId': 'fbz9ep', 'orderAmount': 34, 'ord...</td>\n",
       "      <td>[{'paymentMethodId': 'pdxjdwui4', 'paymentMeth...</td>\n",
       "      <td>[{'transactionId': 'vx4cjc27', 'orderId': 'fbz...</td>\n",
       "    </tr>\n",
       "    <tr>\n",
       "      <td>4</td>\n",
       "      <td>True</td>\n",
       "      <td>{'customerEmail': 'uchen@malone.com', 'custome...</td>\n",
       "      <td>[{'orderId': '56h7iw', 'orderAmount': 71, 'ord...</td>\n",
       "      <td>[{'paymentMethodId': 'w1i1zq3rg', 'paymentMeth...</td>\n",
       "      <td>[{'transactionId': 'q8j3dgni', 'orderId': '56h...</td>\n",
       "    </tr>\n",
       "  </tbody>\n",
       "</table>\n",
       "</div>"
      ],
      "text/plain": [
       "   fraudulent                                           customer  \\\n",
       "0       False  {'customerEmail': 'josephhoward@yahoo.com', 'c...   \n",
       "1        True  {'customerEmail': 'evansjeffery@yahoo.com', 'c...   \n",
       "2       False  {'customerEmail': 'andersonwilliam@yahoo.com',...   \n",
       "3       False  {'customerEmail': 'rubenjuarez@yahoo.com', 'cu...   \n",
       "4        True  {'customerEmail': 'uchen@malone.com', 'custome...   \n",
       "\n",
       "                                              orders  \\\n",
       "0  [{'orderId': 'vjbdvd', 'orderAmount': 18, 'ord...   \n",
       "1  [{'orderId': 'nlghpa', 'orderAmount': 45, 'ord...   \n",
       "2  [{'orderId': 'yk34y2', 'orderAmount': 33, 'ord...   \n",
       "3  [{'orderId': 'fbz9ep', 'orderAmount': 34, 'ord...   \n",
       "4  [{'orderId': '56h7iw', 'orderAmount': 71, 'ord...   \n",
       "\n",
       "                                      paymentMethods  \\\n",
       "0  [{'paymentMethodId': 'wt07xm68b', 'paymentMeth...   \n",
       "1  [{'paymentMethodId': 'y3xp697jx', 'paymentMeth...   \n",
       "2  [{'paymentMethodId': '8pneoi03z', 'paymentMeth...   \n",
       "3  [{'paymentMethodId': 'pdxjdwui4', 'paymentMeth...   \n",
       "4  [{'paymentMethodId': 'w1i1zq3rg', 'paymentMeth...   \n",
       "\n",
       "                                        transactions  \n",
       "0  [{'transactionId': 'a9lcj51r', 'orderId': 'vjb...  \n",
       "1  [{'transactionId': '5mi94sfw', 'orderId': 'nlg...  \n",
       "2  [{'transactionId': 'q3lyvbza', 'orderId': 'yk3...  \n",
       "3  [{'transactionId': 'vx4cjc27', 'orderId': 'fbz...  \n",
       "4  [{'transactionId': 'q8j3dgni', 'orderId': '56h...  "
      ]
     },
     "execution_count": 3,
     "metadata": {},
     "output_type": "execute_result"
    }
   ],
   "source": [
    "df.head()"
   ]
  },
  {
   "cell_type": "code",
   "execution_count": 4,
   "metadata": {},
   "outputs": [
    {
     "data": {
      "text/plain": [
       "Index(['fraudulent', 'customer', 'orders', 'paymentMethods', 'transactions'], dtype='object')"
      ]
     },
     "execution_count": 4,
     "metadata": {},
     "output_type": "execute_result"
    }
   ],
   "source": [
    "df.keys()"
   ]
  },
  {
   "cell_type": "markdown",
   "metadata": {},
   "source": [
    "### List Comprehension\n",
    "\n",
    "A list comprehension is an easy way to unpack the data\n",
    "\n",
    "\n"
   ]
  },
  {
   "cell_type": "code",
   "execution_count": 5,
   "metadata": {},
   "outputs": [
    {
     "data": {
      "text/html": [
       "<div>\n",
       "<style scoped>\n",
       "    .dataframe tbody tr th:only-of-type {\n",
       "        vertical-align: middle;\n",
       "    }\n",
       "\n",
       "    .dataframe tbody tr th {\n",
       "        vertical-align: top;\n",
       "    }\n",
       "\n",
       "    .dataframe thead th {\n",
       "        text-align: right;\n",
       "    }\n",
       "</style>\n",
       "<table border=\"1\" class=\"dataframe\">\n",
       "  <thead>\n",
       "    <tr style=\"text-align: right;\">\n",
       "      <th></th>\n",
       "      <th>customerEmail</th>\n",
       "      <th>customerPhone</th>\n",
       "      <th>customerDevice</th>\n",
       "      <th>customerIPAddress</th>\n",
       "      <th>customerBillingAddress</th>\n",
       "    </tr>\n",
       "  </thead>\n",
       "  <tbody>\n",
       "    <tr>\n",
       "      <td>0</td>\n",
       "      <td>josephhoward@yahoo.com</td>\n",
       "      <td>400-108-5415</td>\n",
       "      <td>yyeiaxpltf82440jnb3v</td>\n",
       "      <td>8.129.104.40</td>\n",
       "      <td>5493 Jones Islands\\nBrownside, CA 51896</td>\n",
       "    </tr>\n",
       "    <tr>\n",
       "      <td>1</td>\n",
       "      <td>evansjeffery@yahoo.com</td>\n",
       "      <td>1-788-091-7546</td>\n",
       "      <td>r0jpm7xaeqqa3kr6mzum</td>\n",
       "      <td>219.173.211.202</td>\n",
       "      <td>356 Elizabeth Inlet Suite 120\\nPort Joshuabury...</td>\n",
       "    </tr>\n",
       "    <tr>\n",
       "      <td>2</td>\n",
       "      <td>andersonwilliam@yahoo.com</td>\n",
       "      <td>024.420.0375</td>\n",
       "      <td>4m7h5ipl1shyavt6vv2r</td>\n",
       "      <td>67b7:3db8:67e0:3bea:b9d0:90c1:2b60:b9f0</td>\n",
       "      <td>8478 Sean Ridges Apt. 441\\nDavisberg, PR 72250</td>\n",
       "    </tr>\n",
       "    <tr>\n",
       "      <td>3</td>\n",
       "      <td>rubenjuarez@yahoo.com</td>\n",
       "      <td>670.664.8168x94985</td>\n",
       "      <td>slovx60t0i558may4ks0</td>\n",
       "      <td>95de:8565:5a66:792c:26e0:6cfb:7d87:11af</td>\n",
       "      <td>7769 Elizabeth Bridge Apt. 343\\nNortonstad, FM...</td>\n",
       "    </tr>\n",
       "    <tr>\n",
       "      <td>4</td>\n",
       "      <td>uchen@malone.com</td>\n",
       "      <td>1-981-877-0870</td>\n",
       "      <td>j0pd24k5h8dl2fqu0cz4</td>\n",
       "      <td>196.89.235.192</td>\n",
       "      <td>148 Russell Lodge Apt. 445\\nPort Jenniferside,...</td>\n",
       "    </tr>\n",
       "  </tbody>\n",
       "</table>\n",
       "</div>"
      ],
      "text/plain": [
       "               customerEmail       customerPhone        customerDevice  \\\n",
       "0     josephhoward@yahoo.com        400-108-5415  yyeiaxpltf82440jnb3v   \n",
       "1     evansjeffery@yahoo.com      1-788-091-7546  r0jpm7xaeqqa3kr6mzum   \n",
       "2  andersonwilliam@yahoo.com        024.420.0375  4m7h5ipl1shyavt6vv2r   \n",
       "3      rubenjuarez@yahoo.com  670.664.8168x94985  slovx60t0i558may4ks0   \n",
       "4           uchen@malone.com      1-981-877-0870  j0pd24k5h8dl2fqu0cz4   \n",
       "\n",
       "                         customerIPAddress  \\\n",
       "0                             8.129.104.40   \n",
       "1                          219.173.211.202   \n",
       "2  67b7:3db8:67e0:3bea:b9d0:90c1:2b60:b9f0   \n",
       "3  95de:8565:5a66:792c:26e0:6cfb:7d87:11af   \n",
       "4                           196.89.235.192   \n",
       "\n",
       "                              customerBillingAddress  \n",
       "0            5493 Jones Islands\\nBrownside, CA 51896  \n",
       "1  356 Elizabeth Inlet Suite 120\\nPort Joshuabury...  \n",
       "2     8478 Sean Ridges Apt. 441\\nDavisberg, PR 72250  \n",
       "3  7769 Elizabeth Bridge Apt. 343\\nNortonstad, FM...  \n",
       "4  148 Russell Lodge Apt. 445\\nPort Jenniferside,...  "
      ]
     },
     "execution_count": 5,
     "metadata": {},
     "output_type": "execute_result"
    }
   ],
   "source": [
    "customer_data = pd.DataFrame([md for md in df.customer])\n",
    "\n",
    "customer_data.head()"
   ]
  },
  {
   "cell_type": "markdown",
   "metadata": {},
   "source": [
    "### Json Normalization "
   ]
  },
  {
   "cell_type": "code",
   "execution_count": 6,
   "metadata": {},
   "outputs": [
    {
     "data": {
      "text/html": [
       "<div>\n",
       "<style scoped>\n",
       "    .dataframe tbody tr th:only-of-type {\n",
       "        vertical-align: middle;\n",
       "    }\n",
       "\n",
       "    .dataframe tbody tr th {\n",
       "        vertical-align: top;\n",
       "    }\n",
       "\n",
       "    .dataframe thead th {\n",
       "        text-align: right;\n",
       "    }\n",
       "</style>\n",
       "<table border=\"1\" class=\"dataframe\">\n",
       "  <thead>\n",
       "    <tr style=\"text-align: right;\">\n",
       "      <th></th>\n",
       "      <th>customerEmail</th>\n",
       "      <th>customerPhone</th>\n",
       "      <th>customerDevice</th>\n",
       "      <th>customerIPAddress</th>\n",
       "      <th>customerBillingAddress</th>\n",
       "    </tr>\n",
       "  </thead>\n",
       "  <tbody>\n",
       "    <tr>\n",
       "      <td>0</td>\n",
       "      <td>josephhoward@yahoo.com</td>\n",
       "      <td>400-108-5415</td>\n",
       "      <td>yyeiaxpltf82440jnb3v</td>\n",
       "      <td>8.129.104.40</td>\n",
       "      <td>5493 Jones Islands\\nBrownside, CA 51896</td>\n",
       "    </tr>\n",
       "    <tr>\n",
       "      <td>1</td>\n",
       "      <td>evansjeffery@yahoo.com</td>\n",
       "      <td>1-788-091-7546</td>\n",
       "      <td>r0jpm7xaeqqa3kr6mzum</td>\n",
       "      <td>219.173.211.202</td>\n",
       "      <td>356 Elizabeth Inlet Suite 120\\nPort Joshuabury...</td>\n",
       "    </tr>\n",
       "    <tr>\n",
       "      <td>2</td>\n",
       "      <td>andersonwilliam@yahoo.com</td>\n",
       "      <td>024.420.0375</td>\n",
       "      <td>4m7h5ipl1shyavt6vv2r</td>\n",
       "      <td>67b7:3db8:67e0:3bea:b9d0:90c1:2b60:b9f0</td>\n",
       "      <td>8478 Sean Ridges Apt. 441\\nDavisberg, PR 72250</td>\n",
       "    </tr>\n",
       "    <tr>\n",
       "      <td>3</td>\n",
       "      <td>rubenjuarez@yahoo.com</td>\n",
       "      <td>670.664.8168x94985</td>\n",
       "      <td>slovx60t0i558may4ks0</td>\n",
       "      <td>95de:8565:5a66:792c:26e0:6cfb:7d87:11af</td>\n",
       "      <td>7769 Elizabeth Bridge Apt. 343\\nNortonstad, FM...</td>\n",
       "    </tr>\n",
       "    <tr>\n",
       "      <td>4</td>\n",
       "      <td>uchen@malone.com</td>\n",
       "      <td>1-981-877-0870</td>\n",
       "      <td>j0pd24k5h8dl2fqu0cz4</td>\n",
       "      <td>196.89.235.192</td>\n",
       "      <td>148 Russell Lodge Apt. 445\\nPort Jenniferside,...</td>\n",
       "    </tr>\n",
       "  </tbody>\n",
       "</table>\n",
       "</div>"
      ],
      "text/plain": [
       "               customerEmail       customerPhone        customerDevice  \\\n",
       "0     josephhoward@yahoo.com        400-108-5415  yyeiaxpltf82440jnb3v   \n",
       "1     evansjeffery@yahoo.com      1-788-091-7546  r0jpm7xaeqqa3kr6mzum   \n",
       "2  andersonwilliam@yahoo.com        024.420.0375  4m7h5ipl1shyavt6vv2r   \n",
       "3      rubenjuarez@yahoo.com  670.664.8168x94985  slovx60t0i558may4ks0   \n",
       "4           uchen@malone.com      1-981-877-0870  j0pd24k5h8dl2fqu0cz4   \n",
       "\n",
       "                         customerIPAddress  \\\n",
       "0                             8.129.104.40   \n",
       "1                          219.173.211.202   \n",
       "2  67b7:3db8:67e0:3bea:b9d0:90c1:2b60:b9f0   \n",
       "3  95de:8565:5a66:792c:26e0:6cfb:7d87:11af   \n",
       "4                           196.89.235.192   \n",
       "\n",
       "                              customerBillingAddress  \n",
       "0            5493 Jones Islands\\nBrownside, CA 51896  \n",
       "1  356 Elizabeth Inlet Suite 120\\nPort Joshuabury...  \n",
       "2     8478 Sean Ridges Apt. 441\\nDavisberg, PR 72250  \n",
       "3  7769 Elizabeth Bridge Apt. 343\\nNortonstad, FM...  \n",
       "4  148 Russell Lodge Apt. 445\\nPort Jenniferside,...  "
      ]
     },
     "execution_count": 6,
     "metadata": {},
     "output_type": "execute_result"
    }
   ],
   "source": [
    "from pandas.io.json import json_normalize\n",
    "customer_data = json_normalize(data=df.customer)\n",
    "customer_data.head()"
   ]
  },
  {
   "cell_type": "code",
   "execution_count": 7,
   "metadata": {},
   "outputs": [
    {
     "data": {
      "text/html": [
       "<div>\n",
       "<style scoped>\n",
       "    .dataframe tbody tr th:only-of-type {\n",
       "        vertical-align: middle;\n",
       "    }\n",
       "\n",
       "    .dataframe tbody tr th {\n",
       "        vertical-align: top;\n",
       "    }\n",
       "\n",
       "    .dataframe thead th {\n",
       "        text-align: right;\n",
       "    }\n",
       "</style>\n",
       "<table border=\"1\" class=\"dataframe\">\n",
       "  <thead>\n",
       "    <tr style=\"text-align: right;\">\n",
       "      <th></th>\n",
       "      <th>0</th>\n",
       "      <th>1</th>\n",
       "      <th>2</th>\n",
       "      <th>3</th>\n",
       "      <th>4</th>\n",
       "      <th>5</th>\n",
       "      <th>6</th>\n",
       "      <th>7</th>\n",
       "    </tr>\n",
       "  </thead>\n",
       "  <tbody>\n",
       "    <tr>\n",
       "      <td>0</td>\n",
       "      <td>{'orderId': 'vjbdvd', 'orderAmount': 18, 'orde...</td>\n",
       "      <td>{'orderId': 'yp6x27', 'orderAmount': 26, 'orde...</td>\n",
       "      <td>None</td>\n",
       "      <td>None</td>\n",
       "      <td>None</td>\n",
       "      <td>None</td>\n",
       "      <td>None</td>\n",
       "      <td>None</td>\n",
       "    </tr>\n",
       "    <tr>\n",
       "      <td>1</td>\n",
       "      <td>{'orderId': 'nlghpa', 'orderAmount': 45, 'orde...</td>\n",
       "      <td>{'orderId': 'uw0eeb', 'orderAmount': 23, 'orde...</td>\n",
       "      <td>{'orderId': 'bn44oh', 'orderAmount': 43, 'orde...</td>\n",
       "      <td>None</td>\n",
       "      <td>None</td>\n",
       "      <td>None</td>\n",
       "      <td>None</td>\n",
       "      <td>None</td>\n",
       "    </tr>\n",
       "    <tr>\n",
       "      <td>2</td>\n",
       "      <td>{'orderId': 'yk34y2', 'orderAmount': 33, 'orde...</td>\n",
       "      <td>{'orderId': '28v6b0', 'orderAmount': 24, 'orde...</td>\n",
       "      <td>{'orderId': 'itnk8y', 'orderAmount': 25, 'orde...</td>\n",
       "      <td>None</td>\n",
       "      <td>None</td>\n",
       "      <td>None</td>\n",
       "      <td>None</td>\n",
       "      <td>None</td>\n",
       "    </tr>\n",
       "    <tr>\n",
       "      <td>3</td>\n",
       "      <td>{'orderId': 'fbz9ep', 'orderAmount': 34, 'orde...</td>\n",
       "      <td>{'orderId': '7odnn6', 'orderAmount': 26, 'orde...</td>\n",
       "      <td>{'orderId': 'audx7o', 'orderAmount': 25, 'orde...</td>\n",
       "      <td>None</td>\n",
       "      <td>None</td>\n",
       "      <td>None</td>\n",
       "      <td>None</td>\n",
       "      <td>None</td>\n",
       "    </tr>\n",
       "    <tr>\n",
       "      <td>4</td>\n",
       "      <td>{'orderId': '56h7iw', 'orderAmount': 71, 'orde...</td>\n",
       "      <td>{'orderId': 'kowj1v', 'orderAmount': 66, 'orde...</td>\n",
       "      <td>{'orderId': 'wlznfu', 'orderAmount': 69, 'orde...</td>\n",
       "      <td>{'orderId': 'hm3rth', 'orderAmount': 46, 'orde...</td>\n",
       "      <td>{'orderId': 'vvq05w', 'orderAmount': 68, 'orde...</td>\n",
       "      <td>{'orderId': 'xwo0al', 'orderAmount': 59, 'orde...</td>\n",
       "      <td>{'orderId': '2528x8', 'orderAmount': 32, 'orde...</td>\n",
       "      <td>None</td>\n",
       "    </tr>\n",
       "  </tbody>\n",
       "</table>\n",
       "</div>"
      ],
      "text/plain": [
       "                                                   0  \\\n",
       "0  {'orderId': 'vjbdvd', 'orderAmount': 18, 'orde...   \n",
       "1  {'orderId': 'nlghpa', 'orderAmount': 45, 'orde...   \n",
       "2  {'orderId': 'yk34y2', 'orderAmount': 33, 'orde...   \n",
       "3  {'orderId': 'fbz9ep', 'orderAmount': 34, 'orde...   \n",
       "4  {'orderId': '56h7iw', 'orderAmount': 71, 'orde...   \n",
       "\n",
       "                                                   1  \\\n",
       "0  {'orderId': 'yp6x27', 'orderAmount': 26, 'orde...   \n",
       "1  {'orderId': 'uw0eeb', 'orderAmount': 23, 'orde...   \n",
       "2  {'orderId': '28v6b0', 'orderAmount': 24, 'orde...   \n",
       "3  {'orderId': '7odnn6', 'orderAmount': 26, 'orde...   \n",
       "4  {'orderId': 'kowj1v', 'orderAmount': 66, 'orde...   \n",
       "\n",
       "                                                   2  \\\n",
       "0                                               None   \n",
       "1  {'orderId': 'bn44oh', 'orderAmount': 43, 'orde...   \n",
       "2  {'orderId': 'itnk8y', 'orderAmount': 25, 'orde...   \n",
       "3  {'orderId': 'audx7o', 'orderAmount': 25, 'orde...   \n",
       "4  {'orderId': 'wlznfu', 'orderAmount': 69, 'orde...   \n",
       "\n",
       "                                                   3  \\\n",
       "0                                               None   \n",
       "1                                               None   \n",
       "2                                               None   \n",
       "3                                               None   \n",
       "4  {'orderId': 'hm3rth', 'orderAmount': 46, 'orde...   \n",
       "\n",
       "                                                   4  \\\n",
       "0                                               None   \n",
       "1                                               None   \n",
       "2                                               None   \n",
       "3                                               None   \n",
       "4  {'orderId': 'vvq05w', 'orderAmount': 68, 'orde...   \n",
       "\n",
       "                                                   5  \\\n",
       "0                                               None   \n",
       "1                                               None   \n",
       "2                                               None   \n",
       "3                                               None   \n",
       "4  {'orderId': 'xwo0al', 'orderAmount': 59, 'orde...   \n",
       "\n",
       "                                                   6     7  \n",
       "0                                               None  None  \n",
       "1                                               None  None  \n",
       "2                                               None  None  \n",
       "3                                               None  None  \n",
       "4  {'orderId': '2528x8', 'orderAmount': 32, 'orde...  None  "
      ]
     },
     "execution_count": 7,
     "metadata": {},
     "output_type": "execute_result"
    }
   ],
   "source": [
    "orders_data = pd.DataFrame([md for md in df.orders])\n",
    "orders_data.head()"
   ]
  },
  {
   "cell_type": "code",
   "execution_count": 8,
   "metadata": {
    "colab": {},
    "colab_type": "code",
    "id": "rYn_nuIYT1W1"
   },
   "outputs": [],
   "source": [
    "# works_data = json_normalize(data = df['orders'],record_path = 'orders', meta =['orderId', 'orderAmount', 'orderState', 'orderShippingAddress']) \n",
    "# works_data.head()"
   ]
  },
  {
   "cell_type": "markdown",
   "metadata": {},
   "source": [
    "### Json Object Load Method"
   ]
  },
  {
   "cell_type": "code",
   "execution_count": 9,
   "metadata": {},
   "outputs": [],
   "source": [
    "#load json object\n",
    "\n",
    "# with open('data/customersdata.json') as f:\n",
    "#    d = json.load(f)"
   ]
  },
  {
   "cell_type": "code",
   "execution_count": 10,
   "metadata": {},
   "outputs": [],
   "source": [
    "# data = json.dumps(str(df['orders']))\n",
    "# data['orderId'][0]\n"
   ]
  },
  {
   "cell_type": "markdown",
   "metadata": {},
   "source": [
    "#### Export into csv"
   ]
  },
  {
   "cell_type": "code",
   "execution_count": 11,
   "metadata": {},
   "outputs": [],
   "source": [
    "# export_csv = df.to_csv (r'New_Products.csv', index = None, header=True)"
   ]
  },
  {
   "cell_type": "markdown",
   "metadata": {},
   "source": [
    "#### Refrences \n",
    "\n",
    "- https://towardsdatascience.com/lots-of-json-29873d3abfdf"
   ]
  }
 ],
 "metadata": {
  "colab": {
   "collapsed_sections": [],
   "include_colab_link": true,
   "name": "json_implementation.ipynb",
   "provenance": []
  },
  "kernelspec": {
   "display_name": "Python 3",
   "language": "python",
   "name": "python3"
  },
  "language_info": {
   "codemirror_mode": {
    "name": "ipython",
    "version": 3
   },
   "file_extension": ".py",
   "mimetype": "text/x-python",
   "name": "python",
   "nbconvert_exporter": "python",
   "pygments_lexer": "ipython3",
   "version": "3.7.4"
  }
 },
 "nbformat": 4,
 "nbformat_minor": 4
}
